{
 "cells": [
  {
   "cell_type": "markdown",
   "id": "e2228800-3190-4fc5-9bbe-a89a847fa42e",
   "metadata": {},
   "source": [
    "# Data Science Tools and Ecosystem"
   ]
  },
  {
   "cell_type": "markdown",
   "id": "7214584a-30d0-46c6-ba71-d07689981f4e",
   "metadata": {},
   "source": [
    "In this notebook, Data Science Tools and Ecosystem are summarized."
   ]
  },
  {
   "cell_type": "markdown",
   "id": "64b582eb-0053-4703-a91c-21f80ef1022c",
   "metadata": {},
   "source": [
    "**Objectives:**\n",
    "\n",
    "+ Some of the popular languages that Data Scientists use are:\n",
    "+ Some of the commonly used libraries used by Data Scientists include:\n",
    "+ Data Science Tools\n",
    "+ Below are a few examples of evaluating arithmetic expressions in Python\n"
   ]
  },
  {
   "cell_type": "markdown",
   "id": "995de3d1-e33a-4337-9616-8f8ac364690c",
   "metadata": {},
   "source": [
    "Some of the popular languages that Data Scientists use are:\n",
    "\n",
    "1. Python;\n",
    "2. R;\n",
    "3. SQL."
   ]
  },
  {
   "cell_type": "markdown",
   "id": "b87b78d2-f139-47f9-817e-3479afc16d30",
   "metadata": {},
   "source": [
    "Some of the commonly used libraries used by Data Scientists include:\n",
    "\n",
    "1. SciPy;\n",
    "2. MatplotLib;\n",
    "3. Pandas."
   ]
  },
  {
   "cell_type": "markdown",
   "id": "474c6d53-ae5f-4b36-b998-485fcd83f3d3",
   "metadata": {},
   "source": [
    "| Data Science Tools |\n",
    "| -------------------|\n",
    "| Jupyter |\n",
    "| GitHub |\n",
    "| Spark |"
   ]
  },
  {
   "cell_type": "markdown",
   "id": "74ef3920-c5fc-45b5-862c-d231f95d8a26",
   "metadata": {},
   "source": [
    "### Below are a few examples of evaluating arithmetic expressions in Python"
   ]
  },
  {
   "cell_type": "code",
   "execution_count": 8,
   "id": "a788390a-be5d-474e-b29d-fd439f147128",
   "metadata": {},
   "outputs": [
    {
     "data": {
      "text/plain": [
       "17"
      ]
     },
     "execution_count": 8,
     "metadata": {},
     "output_type": "execute_result"
    }
   ],
   "source": [
    "#This a simple arithmetic expression to mutiply then add integers\n",
    "\n",
    "(3*4)+5"
   ]
  },
  {
   "cell_type": "code",
   "execution_count": 7,
   "id": "cd3f8af0-858f-4bf7-88ba-4994119bd6a1",
   "metadata": {},
   "outputs": [
    {
     "name": "stdout",
     "output_type": "stream",
     "text": [
      "results is: 3.3333333333333335 hours.\n"
     ]
    }
   ],
   "source": [
    "#This will convert 200 minutes to hours by diving by 60\n",
    "m = 200\n",
    "h = 60\n",
    "\n",
    "r = m/h\n",
    "\n",
    "print('results is:', r, 'hours.')"
   ]
  },
  {
   "cell_type": "markdown",
   "id": "9ca49632-208a-4ed2-9dac-bc74680e2b7f",
   "metadata": {},
   "source": [
    "## Author\n",
    "Jéssica Fernandes"
   ]
  },
  {
   "cell_type": "code",
   "execution_count": null,
   "id": "ac30b0db-ff33-4523-924f-53c992ea9626",
   "metadata": {},
   "outputs": [],
   "source": []
  }
 ],
 "metadata": {
  "kernelspec": {
   "display_name": "Python 3 (ipykernel)",
   "language": "python",
   "name": "python3"
  },
  "language_info": {
   "codemirror_mode": {
    "name": "ipython",
    "version": 3
   },
   "file_extension": ".py",
   "mimetype": "text/x-python",
   "name": "python",
   "nbconvert_exporter": "python",
   "pygments_lexer": "ipython3",
   "version": "3.10.9"
  }
 },
 "nbformat": 4,
 "nbformat_minor": 5
}
